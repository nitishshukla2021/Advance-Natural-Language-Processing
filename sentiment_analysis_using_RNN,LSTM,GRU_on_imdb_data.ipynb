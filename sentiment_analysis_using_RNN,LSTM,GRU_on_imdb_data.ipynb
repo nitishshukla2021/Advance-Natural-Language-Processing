{
  "cells": [
    {
      "cell_type": "code",
      "source": [
        "import tensorflow as tf\n",
        "from tensorflow.keras.datasets import imdb\n",
        "from tensorflow.keras.preprocessing.sequence import pad_sequences\n",
        "from tensorflow.keras.models import Sequential\n",
        "from tensorflow.keras.layers import Embedding, LSTM, GRU, SimpleRNN, Dense\n",
        "\n",
        "# Set random seed for reproducibility\n",
        "tf.random.set_seed(42)\n"
      ],
      "metadata": {
        "id": "_y8HkGZZUmJt"
      },
      "execution_count": 11,
      "outputs": []
    },
    {
      "cell_type": "markdown",
      "source": [
        "Load and prepare the imdb dataset:-"
      ],
      "metadata": {
        "id": "RE15xahwU1SV"
      }
    },
    {
      "cell_type": "code",
      "source": [
        "# Load dataset with top 10,000 frequent words\n",
        "(X_train, y_train), (X_test, y_test) = imdb.load_data(num_words=10000)\n",
        "\n",
        "# Pad sequences to fixed length (e.g. 200 words per review)\n",
        "X_train = pad_sequences(X_train, maxlen=200)\n",
        "X_test = pad_sequences(X_test, maxlen=200)\n"
      ],
      "metadata": {
        "id": "kaNCFWnJUubC"
      },
      "execution_count": 12,
      "outputs": []
    },
    {
      "cell_type": "markdown",
      "source": [
        "Choose Model Type RNN,GRU,LSTM:-"
      ],
      "metadata": {
        "id": "n5Hviuj3U_mq"
      }
    },
    {
      "cell_type": "code",
      "source": [
        "def build_model(cell_type=\"LSTM\"):\n",
        "    model = Sequential()\n",
        "    model.add(Embedding(input_dim=10000, output_dim=128, input_length=200))\n",
        "\n",
        "    if cell_type == \"RNN\":\n",
        "        model.add(SimpleRNN(64))\n",
        "    elif cell_type == \"GRU\":\n",
        "        model.add(GRU(64))\n",
        "    else:\n",
        "        model.add(LSTM(64))\n",
        "\n",
        "    model.add(Dense(1, activation='sigmoid'))  # binary classification\n",
        "    model.compile(loss='binary_crossentropy', optimizer='adam', metrics=['accuracy'])\n",
        "    return model\n"
      ],
      "metadata": {
        "id": "WLVD2L58Uw2t"
      },
      "execution_count": 13,
      "outputs": []
    },
    {
      "cell_type": "markdown",
      "source": [
        "Now training the model:-"
      ],
      "metadata": {
        "id": "s6L4qBITVW7D"
      }
    },
    {
      "cell_type": "code",
      "source": [
        "# Choose one: \"RNN\", \"LSTM\", or \"GRU\"\n",
        "a=input(\"enter the model:-\")\n",
        "model = build_model(cell_type=\"LSTM\")\n",
        "\n",
        "# Train the model\n",
        "model.fit(X_train, y_train, epochs=3, batch_size=64, validation_split=0.2)\n"
      ],
      "metadata": {
        "colab": {
          "base_uri": "https://localhost:8080/"
        },
        "id": "HevWf2apVT-e",
        "outputId": "1e8758d5-6d21-48a5-d20f-5879f6019844"
      },
      "execution_count": 14,
      "outputs": [
        {
          "output_type": "stream",
          "name": "stdout",
          "text": [
            "Epoch 1/3\n",
            "\u001b[1m313/313\u001b[0m \u001b[32m━━━━━━━━━━━━━━━━━━━━\u001b[0m\u001b[37m\u001b[0m \u001b[1m96s\u001b[0m 296ms/step - accuracy: 0.7047 - loss: 0.5446 - val_accuracy: 0.8568 - val_loss: 0.3429\n",
            "Epoch 2/3\n",
            "\u001b[1m313/313\u001b[0m \u001b[32m━━━━━━━━━━━━━━━━━━━━\u001b[0m\u001b[37m\u001b[0m \u001b[1m145s\u001b[0m 305ms/step - accuracy: 0.8856 - loss: 0.2864 - val_accuracy: 0.8636 - val_loss: 0.3346\n",
            "Epoch 3/3\n",
            "\u001b[1m313/313\u001b[0m \u001b[32m━━━━━━━━━━━━━━━━━━━━\u001b[0m\u001b[37m\u001b[0m \u001b[1m137s\u001b[0m 289ms/step - accuracy: 0.9138 - loss: 0.2305 - val_accuracy: 0.8318 - val_loss: 0.3908\n"
          ]
        },
        {
          "output_type": "execute_result",
          "data": {
            "text/plain": [
              "<keras.src.callbacks.history.History at 0x7ee123a49590>"
            ]
          },
          "metadata": {},
          "execution_count": 14
        }
      ]
    },
    {
      "cell_type": "markdown",
      "source": [
        "Evaluation:-"
      ],
      "metadata": {
        "id": "-367uHKSVqZN"
      }
    },
    {
      "cell_type": "code",
      "source": [
        "loss, accuracy = model.evaluate(X_test, y_test)\n",
        "print(f\"Test Accuracy: {accuracy:.4f}\")\n"
      ],
      "metadata": {
        "colab": {
          "base_uri": "https://localhost:8080/"
        },
        "id": "z88CNVMoVnMX",
        "outputId": "06c40448-f217-4efa-a54d-96aa268dda34"
      },
      "execution_count": 16,
      "outputs": [
        {
          "output_type": "stream",
          "name": "stdout",
          "text": [
            "\u001b[1m782/782\u001b[0m \u001b[32m━━━━━━━━━━━━━━━━━━━━\u001b[0m\u001b[37m\u001b[0m \u001b[1m28s\u001b[0m 36ms/step - accuracy: 0.8328 - loss: 0.3939\n",
            "Test Accuracy: 0.8340\n"
          ]
        }
      ]
    },
    {
      "cell_type": "markdown",
      "source": [
        " Summary\n",
        "Dataset: IMDB (25,000 movie reviews)\n",
        "\n",
        "Goal: Classify sentiment (positive/negative)\n",
        "\n",
        "Model: Uses Embedding + RNN/GRU/LSTM → Dense\n",
        "\n",
        "Output: Accuracy on test data"
      ],
      "metadata": {
        "id": "Hy9GjE2tXI6V"
      }
    },
    {
      "cell_type": "code",
      "source": [
        "from tensorflow.keras.preprocessing.text import Tokenizer\n",
        "from tensorflow.keras.preprocessing.sequence import pad_sequences\n",
        "\n",
        "# Load the same word index used by IMDB dataset\n",
        "word_index = imdb.get_word_index()\n",
        "\n",
        "# Reverse word index to decode integer back to words\n",
        "reverse_word_index = {value: key for (key, value) in word_index.items()}\n",
        "\n",
        "# Function to encode a new sentence\n",
        "def encode_review(text):\n",
        "    # Convert text to lowercase words, keep only those in word_index\n",
        "    tokens = [word_index.get(word, 2) for word in text.lower().split()]\n",
        "    return pad_sequences([tokens], maxlen=200)\n"
      ],
      "metadata": {
        "colab": {
          "base_uri": "https://localhost:8080/"
        },
        "id": "pGf_RJ9qXKR-",
        "outputId": "70071fd1-5722-4cbb-ec50-04fd8cc2e024"
      },
      "execution_count": 17,
      "outputs": [
        {
          "output_type": "stream",
          "name": "stdout",
          "text": [
            "Downloading data from https://storage.googleapis.com/tensorflow/tf-keras-datasets/imdb_word_index.json\n",
            "\u001b[1m1641221/1641221\u001b[0m \u001b[32m━━━━━━━━━━━━━━━━━━━━\u001b[0m\u001b[37m\u001b[0m \u001b[1m0s\u001b[0m 0us/step\n"
          ]
        }
      ]
    },
    {
      "cell_type": "code",
      "source": [
        "# Example custom review\n",
        "new_review = \"The movie was amazing, touching and beautifully acted.\"\n",
        "\n",
        "# Encode and pad\n",
        "encoded = encode_review(new_review)\n",
        "\n",
        "# Predict sentiment (0 = negative, 1 = positive)\n",
        "prediction = model.predict(encoded)\n",
        "\n",
        "print(\"Predicted Sentiment:\", \"Positive\" if prediction[0][0] > 0.5 else \"Negative\")\n",
        "print(f\"Confidence: {prediction[0][0]:.2f}\")\n"
      ],
      "metadata": {
        "colab": {
          "base_uri": "https://localhost:8080/"
        },
        "id": "MG0M52UWXVBG",
        "outputId": "a6f6c2fb-7c7b-4f6d-a71e-022589cc277a"
      },
      "execution_count": 18,
      "outputs": [
        {
          "output_type": "stream",
          "name": "stdout",
          "text": [
            "\u001b[1m1/1\u001b[0m \u001b[32m━━━━━━━━━━━━━━━━━━━━\u001b[0m\u001b[37m\u001b[0m \u001b[1m0s\u001b[0m 286ms/step\n",
            "Predicted Sentiment: Positive\n",
            "Confidence: 0.73\n"
          ]
        }
      ]
    },
    {
      "cell_type": "code",
      "source": [],
      "metadata": {
        "id": "zK-BepdDXXnO"
      },
      "execution_count": null,
      "outputs": []
    }
  ],
  "metadata": {
    "colab": {
      "provenance": []
    },
    "kernelspec": {
      "display_name": "Python 3",
      "name": "python3"
    },
    "language_info": {
      "name": "python"
    }
  },
  "nbformat": 4,
  "nbformat_minor": 0
}